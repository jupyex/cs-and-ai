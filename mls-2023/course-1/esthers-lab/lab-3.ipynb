{
  "nbformat": 4,
  "nbformat_minor": 0,
  "metadata": {
    "colab": {
      "provenance": []
    },
    "kernelspec": {
      "name": "python3",
      "display_name": "Python 3"
    },
    "language_info": {
      "name": "python"
    }
  },
  "cells": [
    {
      "cell_type": "markdown",
      "source": [
        "## Computing Cost\n",
        "The term 'cost' in this assignment might be a little confusing since the data is housing cost. Here, cost is a measure how well our model is predicting the target price of the house. The term 'price' is used for housing data.\n",
        "\n",
        "The equation for cost with one variable is:\n",
        "  $$J(w,b) = \\frac{1}{2m} \\sum\\limits_{i = 0}^{m-1} (f_{w,b}(x^{(i)}) - y^{(i)})^2 \\tag{1}$$ \n",
        " \n",
        "where \n",
        "  $$f_{w,b}(x^{(i)}) = wx^{(i)} + b \\tag{2}$$\n",
        "  \n",
        "- $f_{w,b}(x^{(i)})$ is our prediction for example $i$ using parameters $w,b$.  \n",
        "- $(f_{w,b}(x^{(i)}) -y^{(i)})^2$ is the squared difference between the target value and the prediction.   \n",
        "- These differences are summed over all the $m$ examples and divided by `2m` to produce the cost, $J(w,b)$.  \n",
        ">Note, in lecture summation ranges are typically from 1 to m, while code will be from 0 to m-1.\n"
      ],
      "metadata": {
        "id": "42s2AIOIeJiv"
      }
    },
    {
      "cell_type": "markdown",
      "source": [
        "The code below calculates cost by looping over each example. In each loop:\n",
        "- `f_wb`, a prediction is calculated\n",
        "- the difference between the target and the prediction is calculated and squared.\n",
        "- this is added to the total cost."
      ],
      "metadata": {
        "id": "1Jqc4G4beL_X"
      }
    },
    {
      "cell_type": "code",
      "source": [
        "# My code\n",
        "def compute_cost(x,y,w,b):\n",
        "  m = x.shape[0]\n",
        "  sum = 0\n",
        "  for i in range(m):\n",
        "    squared_cost = w*x[i]+b-y[i]\n",
        "    sum += squared_cost_i\n",
        "    cost = (1/(2*m))*sum\n",
        "  return cost"
      ],
      "metadata": {
        "id": "KRRNYAT_eH7E"
      },
      "execution_count": 1,
      "outputs": []
    },
    {
      "cell_type": "code",
      "source": [
        "# Provided code\n",
        "def compute_cost(x, y, w, b): \n",
        "    \"\"\"\n",
        "    Computes the cost function for linear regression.\n",
        "    \n",
        "    Args:\n",
        "      x (ndarray (m,)): Data, m examples \n",
        "      y (ndarray (m,)): target values\n",
        "      w,b (scalar)    : model parameters  \n",
        "    \n",
        "    Returns\n",
        "        total_cost (float): The cost of using w,b as the parameters for linear regression\n",
        "               to fit the data points in x and y\n",
        "    \"\"\"\n",
        "    # number of training examples\n",
        "    m = x.shape[0] \n",
        "    \n",
        "    cost_sum = 0 \n",
        "    for i in range(m): \n",
        "        f_wb = w * x[i] + b   \n",
        "        cost = (f_wb - y[i]) ** 2  \n",
        "        cost_sum = cost_sum + cost  \n",
        "    total_cost = (1 / (2 * m)) * cost_sum  \n",
        "\n",
        "    return total_cost"
      ],
      "metadata": {
        "id": "KwOgF_jJfNG1"
      },
      "execution_count": 2,
      "outputs": []
    }
  ]
}
