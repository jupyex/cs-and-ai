{
  "nbformat": 4,
  "nbformat_minor": 0,
  "metadata": {
    "colab": {
      "provenance": []
    },
    "kernelspec": {
      "name": "python3",
      "display_name": "Python 3"
    },
    "language_info": {
      "name": "python"
    }
  },
  "cells": [
    {
      "cell_type": "code",
      "execution_count": 2,
      "metadata": {
        "id": "B64M6OlGuA_6"
      },
      "outputs": [],
      "source": [
        "import math, copy\n",
        "import numpy as np\n",
        "import matplotlib.pyplot as plt"
      ]
    },
    {
      "cell_type": "code",
      "source": [
        "# Load our data set\n",
        "x_train = np.array([1.0, 2.0])   #features\n",
        "y_train = np.array([300.0, 500.0])   #target value"
      ],
      "metadata": {
        "id": "tWnrAjVauEm3"
      },
      "execution_count": 3,
      "outputs": []
    },
    {
      "cell_type": "code",
      "source": [
        "#Function to calculate the cost\n",
        "\n",
        "def compute_cost(x, y, w, b):\n",
        "  m = x.shape[0]\n",
        "  cost = 0\n",
        "\n",
        "  for i in range(m):\n",
        "    cost = cost + (w * x[i] + b - y[i])**2\n",
        "  total_cost = 1 / (2 * m) * cost\n",
        "\n",
        "  return total_cost"
      ],
      "metadata": {
        "id": "Vi2JJSxauFLu"
      },
      "execution_count": 4,
      "outputs": []
    },
    {
      "cell_type": "markdown",
      "source": [
        "Model answer:\n",
        "```\n",
        "#Function to calculate the cost\n",
        "def compute_cost(x, y, w, b):\n",
        "\n",
        "    m = x.shape[0]\n",
        "    cost = 0\n",
        "\n",
        "    for i in range(m):\n",
        "        f_wb = w * x[i] + b\n",
        "        cost = cost + (f_wb - y[i])**2\n",
        "    total_cost = 1 / (2 * m) * cost\n",
        "\n",
        "    return total_cost\n",
        "```"
      ],
      "metadata": {
        "id": "prOmOuvOu3r1"
      }
    },
    {
      "cell_type": "markdown",
      "source": [
        "The gradient is defined as:\n",
        "$$\n",
        "\\begin{align}\n",
        "\\frac{\\partial J(w,b)}{\\partial w}  &= \\frac{1}{m} \\sum\\limits_{i = 0}^{m-1} (f_{w,b}(x^{(i)}) - y^{(i)})x^{(i)} \\tag{4}\\\\\n",
        "  \\frac{\\partial J(w,b)}{\\partial b}  &= \\frac{1}{m} \\sum\\limits_{i = 0}^{m-1} (f_{w,b}(x^{(i)}) - y^{(i)}) \\tag{5}\\\\\n",
        "\\end{align}\n",
        "$$"
      ],
      "metadata": {
        "id": "2LprqF-DvLBD"
      }
    },
    {
      "cell_type": "code",
      "source": [
        "def compute_gradient(x, y, w, b):\n",
        "  m = x.shape[0]\n",
        "  dJdw = 0\n",
        "  dJdb = 0\n",
        "\n",
        "  for i in range(m):\n",
        "    dJdw = dJdw + (w * x[i] + b - y[i]) * x[i]\n",
        "    dJdb = dJdw + w * x[i] + b - y[i]\n",
        "\n",
        "  total_dJdw = 1 / m * dJdw\n",
        "  total_dJdb = 1 / m * dJdb\n",
        "\n",
        "  return total_dJdw, total_dJdb"
      ],
      "metadata": {
        "id": "AGD-9KaPu-m2"
      },
      "execution_count": 7,
      "outputs": []
    },
    {
      "cell_type": "markdown",
      "source": [
        "Model answer:\n",
        "```\n",
        "def compute_gradient(x, y, w, b):\n",
        "\n",
        "    m = x.shape[0]\n",
        "    dj_dw = 0\n",
        "    dj_db = 0\n",
        "\n",
        "    for i in range(m):\n",
        "        f_wb = w * x[i] + b\n",
        "        dj_dw_i = (f_wb - y[i]) * x[i]\n",
        "        dj_db_i = f_wb - y[i]\n",
        "        dj_db += dj_db_i\n",
        "        dj_dw += dj_dw_i\n",
        "    dj_dw = dj_dw / m\n",
        "    dj_db = dj_db / m\n",
        "\n",
        "    return dj_dw, dj_db\n",
        "```"
      ],
      "metadata": {
        "id": "d_1I1oI9v2DA"
      }
    }
  ]
}